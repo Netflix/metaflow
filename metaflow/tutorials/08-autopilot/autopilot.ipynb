{
 "cells": [
  {
   "cell_type": "markdown",
   "metadata": {},
   "source": [
    "# Episode 08: Scheduling Compute in the Cloud.\n",
    "\n",
    "### This notebook shows how you can track Metaflow flows that have been scheduled to execute in the cloud."
   ]
  },
  {
   "cell_type": "markdown",
   "metadata": {},
   "source": [
    "## Import the metaflow client"
   ]
  },
  {
   "cell_type": "code",
   "execution_count": null,
   "metadata": {},
   "outputs": [],
   "source": [
    "from metaflow import Flow, get_metadata, namespace\n",
    "import plotly.figure_factory as ff\n",
    "\n",
    "print(\"Current metadata provider: %s\" % get_metadata())\n",
    "namespace(None)\n",
    "COLORS = {'timeline': 'rgb(0, 255, 0)'}"
   ]
  },
  {
   "cell_type": "markdown",
   "metadata": {},
   "source": [
    "## Plot a timeline view of a scheduled run of MovieStatsFlow"
   ]
  },
  {
   "cell_type": "code",
   "execution_count": null,
   "metadata": {},
   "outputs": [],
   "source": [
    "# When you triggered your flow on AWS Step Functions using `step-functions trigger`, you would have\n",
    "# seen an output similar to - \n",
    "#\n",
    "# ...\n",
    "# Workflow MovieStatsFlow triggered on AWS Step Functions (run-id sfn-dolor-sit-amet).\n",
    "# ...\n",
    "#\n",
    "# Paste the run-id below (run_id = 'sfn-dolor-sit-amet').\n",
    "run_id = 'sfn-dolor-sit-amet'\n",
    "\n",
    "flow_name = 'MovieStatsFlow'\n",
    "\n",
    "try:\n",
    "    run = Flow(flow_name)[run_id]\n",
    "except KeyError:\n",
    "    print('The run %s for flow %s might not have started yet. \\nThis can happen '\n",
    "          'when the underlying AWS Batch resources are not immediately available. '\n",
    "          '\\nPlease wait for a few moments before trying again or check the run_id '\n",
    "          'for any typos.' % (run_id, flow_name))\n"
   ]
  },
  {
   "cell_type": "markdown",
   "metadata": {},
   "source": [
    "## Steps View"
   ]
  },
  {
   "cell_type": "code",
   "execution_count": null,
   "metadata": {},
   "outputs": [],
   "source": [
    "step_data = [dict(Task=step.id,\n",
    "                  Start=step.created_at,\n",
    "                  Finish=step.finished_at,\n",
    "                  Status='timeline') for step in run]\n",
    "\n",
    "fig = ff.create_gantt(step_data,\n",
    "                      title=\"Steps of %s/%s\" % (run.parent.id, run.id),\n",
    "                      colors=COLORS,\n",
    "                      index_col='Status',\n",
    "                      show_colorbar=True)\n",
    "fig.show()"
   ]
  }
 ],
 "metadata": {
  "kernelspec": {
   "display_name": "Python 3",
   "language": "python",
   "name": "python3"
  },
  "language_info": {
   "codemirror_mode": {
    "name": "ipython",
    "version": 3
   },
   "file_extension": ".py",
   "mimetype": "text/x-python",
   "name": "python",
   "nbconvert_exporter": "python",
   "pygments_lexer": "ipython3",
   "version": "3.7.7"
  }
 },
 "nbformat": 4,
 "nbformat_minor": 2
}
