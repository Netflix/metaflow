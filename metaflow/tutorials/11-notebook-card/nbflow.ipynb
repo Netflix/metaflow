{
 "cells": [
  {
   "cell_type": "markdown",
   "id": "7f158449",
   "metadata": {},
   "source": [
    "# Running Notebooks Programatically In Metaflow\n",
    "\n",
    "When you use the `@card(type='notebook'...)` parameter in Metaflow, Metaflow will inject the following variables into your notebook via [Papermill]():\n",
    "\n",
    "- `run_id`\n",
    "- `step_name`\n",
    "- `task_id`\n",
    "- `flow_name`\n",
    "\n",
    "These variables allow you to get data from your flow, so your notebook can render them.  This is especially useful for visualizing data or making reports based on the output(s) of your flow.\n",
    "\n",
    "To enable this, you must parameterize your notebook by adding the proper cell tags as [described here](https://papermill.readthedocs.io/en/latest/usage-parameterize.html#designate-parameters-for-a-cell).  The next cell in this notebook is tagged such that `Papermill` can inject these variables from the flow. "
   ]
  },
  {
   "cell_type": "code",
   "execution_count": null,
   "id": "48bafc1b",
   "metadata": {
    "tags": [
     "parameters"
    ]
   },
   "outputs": [],
   "source": [
    "run_id, task_id, flow_name, step_name = None, None, None, None"
   ]
  },
  {
   "cell_type": "code",
   "execution_count": null,
   "id": "61f1c647",
   "metadata": {},
   "outputs": [],
   "source": [
    "print(f\"Results for run_id={run_id} step_name={step_name} task_id={task_id} flow_name={flow_name}\")"
   ]
  },
  {
   "cell_type": "markdown",
   "id": "f4c9240a",
   "metadata": {},
   "source": [
    "### You can use the `flow_name`, `step_name`, `run_id` and `task_id` to get data from your flow:\n",
    "\n",
    "For example you can retrieve the value of the variable `data_for_notebook` from the `start` step like so:"
   ]
  },
  {
   "cell_type": "code",
   "execution_count": null,
   "id": "a2999cbb",
   "metadata": {},
   "outputs": [],
   "source": [
    "from metaflow import Step\n",
    "step = Step(f'{flow_name}/{run_id}/{step_name}') # the variable is located in the start step\n",
    "\n",
    "print(f\"{step.task.data.data_for_notebook=}\") # the name of the variable is \"data_for_notebook\""
   ]
  },
  {
   "cell_type": "markdown",
   "id": "a371051b",
   "metadata": {},
   "source": [
    "Furthermore, you can access a task like so:"
   ]
  },
  {
   "cell_type": "code",
   "execution_count": null,
   "id": "8248bb1a",
   "metadata": {},
   "outputs": [],
   "source": [
    "from metaflow import Task\n",
    "task = Task(f'{flow_name}/{run_id}/{step_name}/{task_id}')\n",
    "\n",
    "print(f\"{task.data.data_for_notebook=}\")"
   ]
  }
 ],
 "metadata": {
  "celltoolbar": "Tags",
  "kernelspec": {
   "display_name": "Python 3 (ipykernel)",
   "language": "python",
   "name": "python3"
  },
  "language_info": {
   "codemirror_mode": {
    "name": "ipython",
    "version": 3
   },
   "file_extension": ".py",
   "mimetype": "text/x-python",
   "name": "python",
   "nbconvert_exporter": "python",
   "pygments_lexer": "ipython3",
   "version": "3.9.7"
  }
 },
 "nbformat": 4,
 "nbformat_minor": 5
}
